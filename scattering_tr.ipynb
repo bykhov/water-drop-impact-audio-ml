{
 "cells": [
  {
   "cell_type": "code",
   "id": "initial_id",
   "metadata": {
    "collapsed": true,
    "ExecuteTime": {
     "end_time": "2025-08-13T08:46:19.474443Z",
     "start_time": "2025-08-13T08:46:17.159325Z"
    }
   },
   "source": [
    "from drop_lib2 import *\n",
    "from scipy.io import loadmat\n",
    "import pickle\n",
    "from sklearn.ensemble import HistGradientBoostingClassifier\n",
    "from kymatio.numpy import Scattering1D\n",
    "\n",
    "directory = 'scattering_tr'\n",
    "verbose = 1\n",
    "data = load_data(verbose=verbose)"
   ],
   "outputs": [
    {
     "name": "stdout",
     "output_type": "stream",
     "text": [
      "Loaded segments shape: (842, 25000)\n",
      "Speed labels shape: (842,)\n",
      "Volume labels shape: (842,)\n",
      "Unique speeds: [1.72 2.08 2.36 2.64 3.13 3.39 3.42]\n",
      "Unique volumes: [55 77]\n"
     ]
    }
   ],
   "execution_count": 1
  },
  {
   "metadata": {
    "ExecuteTime": {
     "end_time": "2025-08-13T08:49:34.126275Z",
     "start_time": "2025-08-13T08:46:19.801630Z"
    }
   },
   "cell_type": "code",
   "source": [
    "# default parameters for scattering transform were found by hyperparameter optimization\n",
    "def scattering_transform(segments=data['segments'], J=10, Q=8):\n",
    "    \"\"\"\n",
    "    Apply scattering transform to the segments.\n",
    "\n",
    "    Parameters:\n",
    "    - segments: np.ndarray, shape (n_samples, n_features)\n",
    "    - J: int, scale of scattering\n",
    "    - Q: int, number of wavelets per octave\n",
    "\n",
    "    Returns:\n",
    "    - X_scatter: np.ndarray, shape (n_samples, n_features_transformed)\n",
    "    \"\"\"\n",
    "    T = segments.shape[1]  # length of each segment\n",
    "    scattering = Scattering1D(J=J, shape=T, Q=Q, max_order=2)\n",
    "\n",
    "    print(f'Scattering parameters: J={J}, Q={Q}, T={T}')\n",
    "\n",
    "    # Extract scattering features for all segments\n",
    "    X_scatter = np.stack([scattering(x) for x in tqdm(segments, desc='Scattering transform')])\n",
    "    return X_scatter.reshape(X_scatter.shape[0], -1)\n",
    "\n",
    "X = scattering_transform()"
   ],
   "id": "46deeb8b1e45d130",
   "outputs": [
    {
     "name": "stdout",
     "output_type": "stream",
     "text": [
      "Scattering parameters: J=10, Q=8, T=25000\n"
     ]
    },
    {
     "name": "stderr",
     "output_type": "stream",
     "text": [
      "Scattering transform: 100%|██████████| 842/842 [03:13<00:00,  4.35it/s]\n"
     ]
    }
   ],
   "execution_count": 2
  },
  {
   "metadata": {
    "ExecuteTime": {
     "end_time": "2025-08-13T09:08:55.858671Z",
     "start_time": "2025-08-13T08:49:34.184991Z"
    }
   },
   "cell_type": "code",
   "source": [
    "classifier = HistGradientBoostingClassifier(max_iter=250,\n",
    "                                            random_state=42)\n",
    "confusion_matrices_speed, error_indices_speed, all_cv_scores_speed, \\\n",
    "confusion_matrices_volume, error_indices_volume, all_cv_scores_volume\\\n",
    "    = evaluate_classifier(classifier, classifier, X, data, random_state=42)\n",
    "save_results(confusion_matrices_speed, error_indices_speed, all_cv_scores_speed,\n",
    "             confusion_matrices_volume, error_indices_volume, all_cv_scores_volume,\n",
    "             data,\n",
    "             directory=directory, verbose=verbose)\n",
    "plot_results(confusion_matrices_speed, error_indices_speed,\n",
    "             confusion_matrices_volume, error_indices_volume,\n",
    "             data,\n",
    "             directory=directory, verbose=verbose)"
   ],
   "id": "c3469e4bf031f5d4",
   "outputs": [
    {
     "name": "stderr",
     "output_type": "stream",
     "text": [
      " 20%|██        | 1/5 [02:46<11:05, 166.35s/it]"
     ]
    },
    {
     "name": "stdout",
     "output_type": "stream",
     "text": [
      "Velocity accuracy (fold): 0.9941\n"
     ]
    },
    {
     "name": "stderr",
     "output_type": "stream",
     "text": [
      " 40%|████      | 2/5 [05:31<08:17, 165.88s/it]"
     ]
    },
    {
     "name": "stdout",
     "output_type": "stream",
     "text": [
      "Velocity accuracy (fold): 0.9882\n"
     ]
    },
    {
     "name": "stderr",
     "output_type": "stream",
     "text": [
      " 60%|██████    | 3/5 [08:06<05:21, 160.82s/it]"
     ]
    },
    {
     "name": "stdout",
     "output_type": "stream",
     "text": [
      "Velocity accuracy (fold): 0.9524\n"
     ]
    },
    {
     "name": "stderr",
     "output_type": "stream",
     "text": [
      " 80%|████████  | 4/5 [10:40<02:38, 158.05s/it]"
     ]
    },
    {
     "name": "stdout",
     "output_type": "stream",
     "text": [
      "Velocity accuracy (fold): 0.9702\n"
     ]
    },
    {
     "name": "stderr",
     "output_type": "stream",
     "text": [
      "100%|██████████| 5/5 [13:25<00:00, 161.11s/it]\n"
     ]
    },
    {
     "name": "stdout",
     "output_type": "stream",
     "text": [
      "Velocity accuracy (fold): 0.9643\n",
      "Velocity accuracy average across all folds: 0.9738±0.0154\n"
     ]
    },
    {
     "name": "stderr",
     "output_type": "stream",
     "text": [
      " 20%|██        | 1/5 [01:12<04:49, 72.34s/it]"
     ]
    },
    {
     "name": "stdout",
     "output_type": "stream",
     "text": [
      "Volume accuracy (fold): 0.9527\n"
     ]
    },
    {
     "name": "stderr",
     "output_type": "stream",
     "text": [
      " 40%|████      | 2/5 [02:25<03:38, 72.97s/it]"
     ]
    },
    {
     "name": "stdout",
     "output_type": "stream",
     "text": [
      "Volume accuracy (fold): 0.9408\n"
     ]
    },
    {
     "name": "stderr",
     "output_type": "stream",
     "text": [
      " 60%|██████    | 3/5 [03:33<02:21, 70.56s/it]"
     ]
    },
    {
     "name": "stdout",
     "output_type": "stream",
     "text": [
      "Volume accuracy (fold): 0.9167\n"
     ]
    },
    {
     "name": "stderr",
     "output_type": "stream",
     "text": [
      " 80%|████████  | 4/5 [04:43<01:10, 70.42s/it]"
     ]
    },
    {
     "name": "stdout",
     "output_type": "stream",
     "text": [
      "Volume accuracy (fold): 0.9464\n"
     ]
    },
    {
     "name": "stderr",
     "output_type": "stream",
     "text": [
      "100%|██████████| 5/5 [05:54<00:00, 70.84s/it]"
     ]
    },
    {
     "name": "stdout",
     "output_type": "stream",
     "text": [
      "Volume accuracy (fold): 0.9643\n",
      "Volume accuracy average across all folds - : 0.9442±0.0158\n",
      "Results saved in directory: ./scattering_tr/\n",
      "[[102   0   1   0   0   0   0]\n",
      " [  0 120   0   1   0   1   0]\n",
      " [  0   0 112   1   0   0   0]\n",
      " [  0   0   1 180   0   1   0]\n",
      " [  0   0   0   0  84   0   4]\n",
      " [  0   1   0   4   0 137   0]\n",
      " [  1   0   1   0   5   0  85]]\n",
      "[[343  26]\n",
      " [ 21 452]]\n"
     ]
    },
    {
     "name": "stderr",
     "output_type": "stream",
     "text": [
      "\n"
     ]
    },
    {
     "data": {
      "text/plain": [
       "<Figure size 350x250 with 1 Axes>"
      ],
      "image/png": "[encoded data removed]"
     },
     "metadata": {},
     "output_type": "display_data"
    },
    {
     "data": {
      "text/plain": [
       "<Figure size 150x150 with 1 Axes>"
      ],
      "image/png": "[encoded data removed]"
     },
     "metadata": {},
     "output_type": "display_data"
    },
    {
     "data": {
      "text/plain": [
       "<Figure size 350x350 with 1 Axes>"
      ],
      "image/png": "[encoded data removed]"
     },
     "metadata": {},
     "output_type": "display_data"
    },
    {
     "data": {
      "text/plain": [
       "<Figure size 200x275 with 1 Axes>"
      ],
      "image/png": "[encoded data removed]"
     },
     "metadata": {},
     "output_type": "display_data"
    }
   ],
   "execution_count": 3
  },
  {
   "metadata": {
    "ExecuteTime": {
     "end_time": "2025-08-13T09:08:55.984640Z",
     "start_time": "2025-08-13T09:08:55.980188Z"
    }
   },
   "cell_type": "code",
   "source": "",
   "id": "2ed8ac434ac106ee",
   "outputs": [],
   "execution_count": null
  }
 ],
 "metadata": {
  "kernelspec": {
   "display_name": "Python 3",
   "language": "python",
   "name": "python3"
  },
  "language_info": {
   "codemirror_mode": {
    "name": "ipython",
    "version": 2
   },
   "file_extension": ".py",
   "mimetype": "text/x-python",
   "name": "python",
   "nbconvert_exporter": "python",
   "pygments_lexer": "ipython2",
   "version": "2.7.6"
  }
 },
 "nbformat": 4,
 "nbformat_minor": 5
}
