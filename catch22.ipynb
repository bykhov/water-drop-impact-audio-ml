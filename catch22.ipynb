{
 "cells": [
  {
   "cell_type": "code",
   "id": "initial_id",
   "metadata": {
    "collapsed": true,
    "ExecuteTime": {
     "end_time": "2025-08-12T18:05:49.231628Z",
     "start_time": "2025-08-12T18:05:49.221364Z"
    }
   },
   "source": [
    "from drop_lib2 import *\n",
    "from scipy.io import loadmat\n",
    "import pickle"
   ],
   "outputs": [],
   "execution_count": 7
  },
  {
   "metadata": {
    "ExecuteTime": {
     "end_time": "2025-08-12T18:07:49.082813Z",
     "start_time": "2025-08-12T18:07:49.023557Z"
    }
   },
   "cell_type": "code",
   "source": [
    "directory = 'catch22'\n",
    "verbose = 1\n",
    "data = load_data(verbose=verbose)"
   ],
   "id": "c2b7aa3b8ccfad24",
   "outputs": [
    {
     "name": "stdout",
     "output_type": "stream",
     "text": [
      "Loaded segments shape: (842, 25000)\n",
      "Speed labels shape: (842,)\n",
      "Volume labels shape: (842,)\n",
      "Unique speeds: [1.72 2.08 2.36 2.64 3.13 3.39 3.42]\n",
      "Unique volumes: [55 77]\n"
     ]
    }
   ],
   "execution_count": 11
  },
  {
   "metadata": {
    "ExecuteTime": {
     "end_time": "2025-08-12T17:13:40.375506Z",
     "start_time": "2025-08-12T17:12:26.550075Z"
    }
   },
   "cell_type": "code",
   "source": [
    "from aeon.transformations.collection.feature_based import Catch22\n",
    "tnt = Catch22(outlier_norm=False,\n",
    "              catch24=True,\n",
    "              n_jobs=6)\n",
    "tnt.fit(data['segments'])\n",
    "X_catch22 = tnt.transform(segments)\n",
    "# save X_catch22 to pickle file\n",
    "with open('./catch22/feat_catch22.pkl', 'wb') as f:\n",
    "    pickle.dump(X_catch22, f)"
   ],
   "id": "67fccf707ad4adf3",
   "outputs": [],
   "execution_count": 6
  },
  {
   "metadata": {
    "ExecuteTime": {
     "end_time": "2025-08-12T18:06:50.465173Z",
     "start_time": "2025-08-12T18:06:50.459996Z"
    }
   },
   "cell_type": "code",
   "source": [
    "# load X_catch22 from pickle file\n",
    "with open('./catch22/feat_catch22.pkl', 'rb') as f:\n",
    "    X_catch22 = pickle.load(f)\n",
    "\n",
    "X = X_catch22"
   ],
   "id": "8ef009f186f2f448",
   "outputs": [],
   "execution_count": 8
  },
  {
   "metadata": {
    "ExecuteTime": {
     "end_time": "2025-08-12T18:07:21.158225Z",
     "start_time": "2025-08-12T18:06:57.708823Z"
    }
   },
   "cell_type": "code",
   "source": [
    "from sklearn.ensemble import HistGradientBoostingClassifier\n",
    "from sklearn.preprocessing import StandardScaler\n",
    "from sklearn.pipeline import make_pipeline\n",
    "from sklearn.model_selection import GridSearchCV, KFold\n",
    "from sklearn.metrics import accuracy_score, precision_score, recall_score, f1_score\n",
    "import numpy as np\n",
    "\n",
    "# Define the parameter grid for HistGradientBoostingClassifier\n",
    "param_grid_hgb = {\n",
    "    'histgradientboostingclassifier__learning_rate': [0.01, 0.05],\n",
    "    'histgradientboostingclassifier__max_iter': [100, 250],\n",
    "    'histgradientboostingclassifier__max_depth': [5, 15]\n",
    "}\n",
    "\n",
    "# Create a pipeline with StandardScaler and HistGradientBoostingClassifier\n",
    "pipeline_speed = make_pipeline(StandardScaler(), HistGradientBoostingClassifier())\n",
    "pipeline_volume = make_pipeline(StandardScaler(), HistGradientBoostingClassifier())\n",
    "\n",
    "# Perform grid search for HistGradientBoostingClassifier\n",
    "grid_search_hgb_speed = GridSearchCV(pipeline_speed, param_grid_hgb, cv=5, n_jobs=9, verbose=2)\n",
    "grid_search_hgb_volume = GridSearchCV(pipeline_volume, param_grid_hgb, cv=5, n_jobs=9, verbose=2)\n",
    "grid_search_hgb_speed.fit(X, speed_labels)\n",
    "grid_search_hgb_volume.fit(X, volume_labels)\n",
    "best_hgb_speed_params = grid_search_hgb_speed.best_params_\n",
    "best_hgb_volume_params = grid_search_hgb_volume.best_params_\n",
    "print(f'Best parameters for HGB speed: {best_hgb_speed_params}')\n",
    "print(f'Best parameters for HGB volume: {best_hgb_volume_params}')"
   ],
   "id": "32abb9827a810b5a",
   "outputs": [
    {
     "name": "stdout",
     "output_type": "stream",
     "text": [
      "Fitting 5 folds for each of 8 candidates, totalling 40 fits\n",
      "Fitting 5 folds for each of 8 candidates, totalling 40 fits\n",
      "Best parameters for HGB speed: {'histgradientboostingclassifier__learning_rate': 0.05, 'histgradientboostingclassifier__max_depth': 5, 'histgradientboostingclassifier__max_iter': 250}\n",
      "Best parameters for HGB volume: {'histgradientboostingclassifier__learning_rate': 0.01, 'histgradientboostingclassifier__max_depth': 15, 'histgradientboostingclassifier__max_iter': 250}\n"
     ]
    }
   ],
   "execution_count": 9
  },
  {
   "metadata": {
    "ExecuteTime": {
     "end_time": "2025-08-12T18:08:17.036963Z",
     "start_time": "2025-08-12T18:08:02.538959Z"
    }
   },
   "cell_type": "code",
   "source": [
    "# Train the models with the best parameters\n",
    "best_hgb_speed = make_pipeline(HistGradientBoostingClassifier(**{k.split('__')[1]: v for k, v in best_hgb_speed_params.items()}))\n",
    "best_hgb_volume = make_pipeline(HistGradientBoostingClassifier(**{k.split('__')[1]: v for k, v in best_hgb_volume_params.items()}))\n",
    "\n",
    "confusion_matrices_speed, error_indices_speed, all_cv_scores_speed, \\\n",
    "confusion_matrices_volume, error_indices_volume, all_cv_scores_volume = evaluate_classifier(best_hgb_speed, best_hgb_volume, X, data, random_state=42)\n",
    "save_results(confusion_matrices_speed, error_indices_speed, all_cv_scores_speed,\n",
    "             confusion_matrices_volume, error_indices_volume, all_cv_scores_volume,\n",
    "             data,\n",
    "             directory=directory, verbose=verbose)\n",
    "plot_results(confusion_matrices_speed, error_indices_speed,\n",
    "             confusion_matrices_volume, error_indices_volume,\n",
    "             data,\n",
    "             directory=directory, verbose=verbose)"
   ],
   "id": "27bb2a384f964de",
   "outputs": [
    {
     "name": "stderr",
     "output_type": "stream",
     "text": [
      " 20%|██        | 1/5 [00:01<00:07,  1.80s/it]"
     ]
    },
    {
     "name": "stdout",
     "output_type": "stream",
     "text": [
      "Velocity accuracy (fold): 0.7988\n"
     ]
    },
    {
     "name": "stderr",
     "output_type": "stream",
     "text": [
      " 40%|████      | 2/5 [00:03<00:05,  1.78s/it]"
     ]
    },
    {
     "name": "stdout",
     "output_type": "stream",
     "text": [
      "Velocity accuracy (fold): 0.7396\n"
     ]
    },
    {
     "name": "stderr",
     "output_type": "stream",
     "text": [
      " 60%|██████    | 3/5 [00:05<00:03,  1.88s/it]"
     ]
    },
    {
     "name": "stdout",
     "output_type": "stream",
     "text": [
      "Velocity accuracy (fold): 0.7381\n"
     ]
    },
    {
     "name": "stderr",
     "output_type": "stream",
     "text": [
      " 80%|████████  | 4/5 [00:07<00:01,  2.00s/it]"
     ]
    },
    {
     "name": "stdout",
     "output_type": "stream",
     "text": [
      "Velocity accuracy (fold): 0.7798\n"
     ]
    },
    {
     "name": "stderr",
     "output_type": "stream",
     "text": [
      "100%|██████████| 5/5 [00:09<00:00,  1.97s/it]\n"
     ]
    },
    {
     "name": "stdout",
     "output_type": "stream",
     "text": [
      "Velocity accuracy (fold): 0.8036\n",
      "Velocity accuracy average across all folds: 0.7720±0.0282\n"
     ]
    },
    {
     "name": "stderr",
     "output_type": "stream",
     "text": [
      " 20%|██        | 1/5 [00:00<00:02,  1.73it/s]"
     ]
    },
    {
     "name": "stdout",
     "output_type": "stream",
     "text": [
      "Volume accuracy (fold): 0.7811\n"
     ]
    },
    {
     "name": "stderr",
     "output_type": "stream",
     "text": [
      " 40%|████      | 2/5 [00:01<00:01,  1.69it/s]"
     ]
    },
    {
     "name": "stdout",
     "output_type": "stream",
     "text": [
      "Volume accuracy (fold): 0.7219\n"
     ]
    },
    {
     "name": "stderr",
     "output_type": "stream",
     "text": [
      " 60%|██████    | 3/5 [00:01<00:01,  1.68it/s]"
     ]
    },
    {
     "name": "stdout",
     "output_type": "stream",
     "text": [
      "Volume accuracy (fold): 0.8036\n"
     ]
    },
    {
     "name": "stderr",
     "output_type": "stream",
     "text": [
      " 80%|████████  | 4/5 [00:02<00:00,  1.62it/s]"
     ]
    },
    {
     "name": "stdout",
     "output_type": "stream",
     "text": [
      "Volume accuracy (fold): 0.8333\n"
     ]
    },
    {
     "name": "stderr",
     "output_type": "stream",
     "text": [
      "100%|██████████| 5/5 [00:03<00:00,  1.65it/s]"
     ]
    },
    {
     "name": "stdout",
     "output_type": "stream",
     "text": [
      "Volume accuracy (fold): 0.8095\n",
      "Volume accuracy average across all folds - : 0.7899±0.0378\n",
      "Results saved in directory: ./catch22/\n",
      "[[ 85   1   8   1   0   3   5]\n",
      " [  3  89   3   7   4  16   0]\n",
      " [  7   9  80   5   0   9   3]\n",
      " [  0   6   5 157   2  11   1]\n",
      " [  0   1   1   2  57   2  25]\n",
      " [  2   5   3  11   0 121   0]\n",
      " [  1   2   2   3  22   1  61]]\n",
      "[[269 100]\n",
      " [ 77 396]]\n"
     ]
    },
    {
     "name": "stderr",
     "output_type": "stream",
     "text": [
      "\n"
     ]
    },
    {
     "data": {
      "text/plain": [
       "<Figure size 350x250 with 1 Axes>"
      ],
      "image/png": "[encoded data removed]"
     },
     "metadata": {},
     "output_type": "display_data"
    },
    {
     "data": {
      "text/plain": [
       "<Figure size 150x150 with 1 Axes>"
      ],
      "image/png": "[encoded data removed]"
     },
     "metadata": {},
     "output_type": "display_data"
    },
    {
     "data": {
      "text/plain": [
       "<Figure size 350x350 with 1 Axes>"
      ],
      "image/png": "[encoded data removed]"
     },
     "metadata": {},
     "output_type": "display_data"
    },
    {
     "data": {
      "text/plain": [
       "<Figure size 200x275 with 1 Axes>"
      ],
      "image/png": "[encoded data removed]"
     },
     "metadata": {},
     "output_type": "display_data"
    }
   ],
   "execution_count": 12
  },
  {
   "metadata": {},
   "cell_type": "code",
   "outputs": [],
   "execution_count": null,
   "source": "",
   "id": "9f9b37443803392c"
  }
 ],
 "metadata": {
  "kernelspec": {
   "display_name": "Python 3",
   "language": "python",
   "name": "python3"
  },
  "language_info": {
   "codemirror_mode": {
    "name": "ipython",
    "version": 2
   },
   "file_extension": ".py",
   "mimetype": "text/x-python",
   "name": "python",
   "nbconvert_exporter": "python",
   "pygments_lexer": "ipython2",
   "version": "2.7.6"
  }
 },
 "nbformat": 4,
 "nbformat_minor": 5
}
