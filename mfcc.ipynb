{
 "cells": [
  {
   "metadata": {
    "ExecuteTime": {
     "end_time": "2025-08-13T17:27:22.609998Z",
     "start_time": "2025-08-13T17:27:22.516062Z"
    }
   },
   "cell_type": "code",
   "source": [
    "from drop_lib2 import *\n",
    "from scipy.io import loadmat\n",
    "import pickle\n",
    "from sklearn.ensemble import HistGradientBoostingClassifier\n",
    "from sklearn.feature_selection import SelectKBest, f_classif, mutual_info_classif\n",
    "from sklearn.pipeline import make_pipeline\n",
    "from sklearn.model_selection import GridSearchCV\n",
    "from sklearn.preprocessing import StandardScaler\n",
    "from scipy.signal import periodogram, spectrogram\n",
    "import matplotlib.pyplot as plt\n",
    "import numpy as np\n",
    "import librosa\n",
    "\n",
    "directory = 'mfcc'\n",
    "directory_to_save(directory)\n",
    "verbose = 1\n",
    "data = load_data(verbose=verbose)\n",
    "segments = data['segments']\n",
    "speed_labels = data['speed_labels']\n",
    "volume_labels = data['volume_labels']\n",
    "unique_speeds = data['unique_speeds']\n",
    "unique_volumes = data['unique_volumes']"
   ],
   "id": "14d7a4b84940a0da",
   "outputs": [
    {
     "name": "stdout",
     "output_type": "stream",
     "text": [
      "Loaded segments shape: (842, 25000)\n",
      "Speed labels shape: (842,)\n",
      "Volume labels shape: (842,)\n",
      "Unique speeds: [1.72 2.08 2.36 2.64 3.13 3.39 3.42]\n",
      "Unique volumes: [55 77]\n"
     ]
    }
   ],
   "execution_count": 6
  },
  {
   "metadata": {
    "ExecuteTime": {
     "end_time": "2025-08-13T17:27:26.947515Z",
     "start_time": "2025-08-13T17:27:22.628507Z"
    }
   },
   "cell_type": "code",
   "source": [
    "# %% Feature extraction\n",
    "def extract_mfcc_features(signals, sample_rate=44100, n_mfcc=40):\n",
    "    features = []\n",
    "    for signal in signals:\n",
    "        signal = np.asarray(signal).astype(np.float32)\n",
    "        mfcc = librosa.feature.mfcc(y=signal, sr=sample_rate, n_mfcc=n_mfcc)\n",
    "        features.append(mfcc)\n",
    "    return np.array(features)\n",
    "\n",
    "# Extract MFCC features\n",
    "X_mfcc = extract_mfcc_features(segments)\n",
    "print(f\"Extracted MFCC features shape: {X_mfcc.shape}\")\n",
    "X = X_mfcc.reshape(X_mfcc.shape[0], -1)\n",
    "print(f\"Reshaped features shape: {X.shape}\")"
   ],
   "id": "a619584bb0754c85",
   "outputs": [
    {
     "name": "stdout",
     "output_type": "stream",
     "text": [
      "Extracted MFCC features shape: (842, 40, 49)\n",
      "Reshaped features shape: (842, 1960)\n"
     ]
    }
   ],
   "execution_count": 7
  },
  {
   "metadata": {
    "ExecuteTime": {
     "end_time": "2025-08-13T17:32:36.263016Z",
     "start_time": "2025-08-13T17:27:26.976660Z"
    }
   },
   "cell_type": "code",
   "source": [
    "classifier = HistGradientBoostingClassifier(max_iter=250,\n",
    "                                            random_state=42)\n",
    "confusion_matrices_speed, error_indices_speed, all_cv_scores_speed, \\\n",
    "confusion_matrices_volume, error_indices_volume, all_cv_scores_volume\\\n",
    "    = evaluate_classifier(classifier, classifier, X, data, random_state=42)\n",
    "save_results(confusion_matrices_speed, error_indices_speed, all_cv_scores_speed,\n",
    "             confusion_matrices_volume, error_indices_volume, all_cv_scores_volume,\n",
    "             data,\n",
    "             directory=directory, verbose=verbose)\n",
    "plot_results(confusion_matrices_speed, error_indices_speed,\n",
    "             confusion_matrices_volume, error_indices_volume,\n",
    "             data,\n",
    "             directory=directory, verbose=verbose)"
   ],
   "id": "393a55b3c93e8190",
   "outputs": [
    {
     "name": "stderr",
     "output_type": "stream",
     "text": [
      " 20%|██        | 1/5 [00:40<02:43, 40.91s/it]"
     ]
    },
    {
     "name": "stdout",
     "output_type": "stream",
     "text": [
      "Velocity accuracy (fold): 0.9586\n"
     ]
    },
    {
     "name": "stderr",
     "output_type": "stream",
     "text": [
      " 40%|████      | 2/5 [01:26<02:11, 43.81s/it]"
     ]
    },
    {
     "name": "stdout",
     "output_type": "stream",
     "text": [
      "Velocity accuracy (fold): 0.9172\n"
     ]
    },
    {
     "name": "stderr",
     "output_type": "stream",
     "text": [
      " 60%|██████    | 3/5 [02:10<01:27, 43.67s/it]"
     ]
    },
    {
     "name": "stdout",
     "output_type": "stream",
     "text": [
      "Velocity accuracy (fold): 0.9286\n"
     ]
    },
    {
     "name": "stderr",
     "output_type": "stream",
     "text": [
      " 80%|████████  | 4/5 [02:52<00:43, 43.08s/it]"
     ]
    },
    {
     "name": "stdout",
     "output_type": "stream",
     "text": [
      "Velocity accuracy (fold): 0.9464\n"
     ]
    },
    {
     "name": "stderr",
     "output_type": "stream",
     "text": [
      "100%|██████████| 5/5 [03:39<00:00, 43.87s/it]\n"
     ]
    },
    {
     "name": "stdout",
     "output_type": "stream",
     "text": [
      "Velocity accuracy (fold): 0.9643\n",
      "Velocity accuracy average across all folds: 0.9430±0.0178\n"
     ]
    },
    {
     "name": "stderr",
     "output_type": "stream",
     "text": [
      " 20%|██        | 1/5 [00:17<01:10, 17.50s/it]"
     ]
    },
    {
     "name": "stdout",
     "output_type": "stream",
     "text": [
      "Volume accuracy (fold): 0.8935\n"
     ]
    },
    {
     "name": "stderr",
     "output_type": "stream",
     "text": [
      " 40%|████      | 2/5 [00:35<00:53, 17.98s/it]"
     ]
    },
    {
     "name": "stdout",
     "output_type": "stream",
     "text": [
      "Volume accuracy (fold): 0.8876\n"
     ]
    },
    {
     "name": "stderr",
     "output_type": "stream",
     "text": [
      " 60%|██████    | 3/5 [00:53<00:35, 17.78s/it]"
     ]
    },
    {
     "name": "stdout",
     "output_type": "stream",
     "text": [
      "Volume accuracy (fold): 0.8810\n"
     ]
    },
    {
     "name": "stderr",
     "output_type": "stream",
     "text": [
      " 80%|████████  | 4/5 [01:10<00:17, 17.54s/it]"
     ]
    },
    {
     "name": "stdout",
     "output_type": "stream",
     "text": [
      "Volume accuracy (fold): 0.9226\n"
     ]
    },
    {
     "name": "stderr",
     "output_type": "stream",
     "text": [
      "100%|██████████| 5/5 [01:28<00:00, 17.63s/it]"
     ]
    },
    {
     "name": "stdout",
     "output_type": "stream",
     "text": [
      "Volume accuracy (fold): 0.9048\n",
      "Volume accuracy average across all folds - : 0.8979±0.0146\n",
      "Results saved in directory: ./mfcc/\n",
      "[[100   0   3   0   0   0   0]\n",
      " [  0 114   0   2   0   6   0]\n",
      " [  2   0 111   0   0   0   0]\n",
      " [  0   0   0 181   0   1   0]\n",
      " [  0   0   0   0  75   0  13]\n",
      " [  0   3   0   8   0 131   0]\n",
      " [  0   0   1   0   9   0  82]]\n",
      "[[317  52]\n",
      " [ 34 439]]\n"
     ]
    },
    {
     "name": "stderr",
     "output_type": "stream",
     "text": [
      "\n"
     ]
    },
    {
     "data": {
      "text/plain": [
       "<Figure size 350x250 with 1 Axes>"
      ],
      "image/png": "[encoded data removed]"
     },
     "metadata": {},
     "output_type": "display_data"
    },
    {
     "data": {
      "text/plain": [
       "<Figure size 150x150 with 1 Axes>"
      ],
      "image/png": "[encoded data removed]"
     },
     "metadata": {},
     "output_type": "display_data"
    },
    {
     "data": {
      "text/plain": [
       "<Figure size 350x350 with 1 Axes>"
      ],
      "image/png": "[encoded data removed]"
     },
     "metadata": {},
     "output_type": "display_data"
    },
    {
     "data": {
      "text/plain": [
       "<Figure size 200x275 with 1 Axes>"
      ],
      "image/png": "[encoded data removed]"
     },
     "metadata": {},
     "output_type": "display_data"
    }
   ],
   "execution_count": 8
  }
 ],
 "metadata": {
  "kernelspec": {
   "display_name": "Python 3",
   "language": "python",
   "name": "python3"
  },
  "language_info": {
   "codemirror_mode": {
    "name": "ipython",
    "version": 2
   },
   "file_extension": ".py",
   "mimetype": "text/x-python",
   "name": "python",
   "nbconvert_exporter": "python",
   "pygments_lexer": "ipython2",
   "version": "2.7.6"
  }
 },
 "nbformat": 4,
 "nbformat_minor": 5
}
